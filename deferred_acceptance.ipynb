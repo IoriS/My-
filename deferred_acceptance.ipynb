{
 "cells": [
  {
   "cell_type": "markdown",
   "metadata": {},
   "source": [
    "[deferred_acceptance.jl](https://github.com/IoriS/My-/blob/master/deferred_acceptance.jl)"
   ]
  },
  {
   "cell_type": "code",
   "execution_count": 1,
   "metadata": {
    "collapsed": false
   },
   "outputs": [
    {
     "data": {
      "text/plain": [
       "deferred_acceptance (generic function with 1 method)"
      ]
     },
     "execution_count": 1,
     "metadata": {},
     "output_type": "execute_result"
    }
   ],
   "source": [
    "include(\"deferred_acceptance.jl\")"
   ]
  },
  {
   "cell_type": "code",
   "execution_count": 2,
   "metadata": {
    "collapsed": false
   },
   "outputs": [
    {
     "data": {
      "text/plain": [
       "5x3 Array{Int64,2}:\n",
       " 2  3  4\n",
       " 3  4  1\n",
       " 0  0  3\n",
       " 4  1  2\n",
       " 1  2  0"
      ]
     },
     "execution_count": 2,
     "metadata": {},
     "output_type": "execute_result"
    }
   ],
   "source": [
    "m_prefs=[2 3 4;3 4 1;0 0 3;4 1 2;1 2 0]"
   ]
  },
  {
   "cell_type": "code",
   "execution_count": 3,
   "metadata": {
    "collapsed": false
   },
   "outputs": [
    {
     "data": {
      "text/plain": [
       "4x4 Array{Int64,2}:\n",
       " 3  1  2  3\n",
       " 0  2  0  1\n",
       " 1  0  3  0\n",
       " 2  3  1  2"
      ]
     },
     "execution_count": 3,
     "metadata": {},
     "output_type": "execute_result"
    }
   ],
   "source": [
    "f_prefs=[3 1 2 3;0 2 0 1;1 0 3 0;2 3 1 2]"
   ]
  },
  {
   "cell_type": "code",
   "execution_count": 4,
   "metadata": {
    "collapsed": false
   },
   "outputs": [
    {
     "name": "stdout",
     "output_type": "stream",
     "text": [
      "[3,4,2][0,3,1,2]"
     ]
    }
   ],
   "source": [
    "deferred_acceptance(m_prefs,f_prefs)"
   ]
  },
  {
   "cell_type": "code",
   "execution_count": 5,
   "metadata": {
    "collapsed": false
   },
   "outputs": [
    {
     "name": "stdout",
     "output_type": "stream",
     "text": [
      "[0,0,0,3][0,0,4]deferred_acceptance: Error During Test\n",
      "  Got an exception of type MethodError outside of a @test\n",
      "  MethodError: `start` has no method matching start(::Void)\n",
      "   [inlined code] from C:\\Users\\一織\\Documents\\My-\\test_deferred_acceptance.jl:37\n",
      "   in anonymous at no file:0\n",
      "   in include at boot.jl:261\n",
      "   in include_from_node1 at loading.jl:320\n",
      "   in include_string at loading.jl:282\n",
      "   in execute_request_0x535c5df2 at C:\\Users\\一織\\.julia\\v0.4\\IJulia\\src\\execute_request.jl:182\n",
      "   in eventloop at C:\\Users\\一織\\.julia\\v0.4\\IJulia\\src\\IJulia.jl:142\n",
      "   in anonymous at task.jl:447\n",
      "Test Summary:                  | Error  Total\n",
      "Testing deferred_acceptance.jl |     1      1\n",
      "  deferred_acceptance          |     1      1\n"
     ]
    },
    {
     "ename": "LoadError",
     "evalue": "LoadError: LoadError: Some tests did not pass: 0 passed, 0 failed, 1 errored.\nwhile loading C:\\Users\\一織\\Documents\\My-\\test_deferred_acceptance.jl, in expression starting on line 17\nwhile loading In[5], in expression starting on line 1",
     "output_type": "error",
     "traceback": [
      "LoadError: LoadError: Some tests did not pass: 0 passed, 0 failed, 1 errored.\nwhile loading C:\\Users\\一織\\Documents\\My-\\test_deferred_acceptance.jl, in expression starting on line 17\nwhile loading In[5], in expression starting on line 1",
      ""
     ]
    }
   ],
   "source": [
    "include(\"test_deferred_acceptance.jl\")"
   ]
  },
  {
   "cell_type": "code",
   "execution_count": null,
   "metadata": {
    "collapsed": true
   },
   "outputs": [],
   "source": []
  }
 ],
 "metadata": {
  "kernelspec": {
   "display_name": "Julia 0.4.5",
   "language": "julia",
   "name": "julia-0.4"
  },
  "language_info": {
   "file_extension": ".jl",
   "mimetype": "application/julia",
   "name": "julia",
   "version": "0.4.5"
  }
 },
 "nbformat": 4,
 "nbformat_minor": 0
}
